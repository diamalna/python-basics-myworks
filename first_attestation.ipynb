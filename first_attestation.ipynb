{
  "cells": [
    {
      "metadata": {
        "id": "1453fbd5e471a5cd"
      },
      "cell_type": "markdown",
      "source": [
        "# Аттестация №1"
      ],
      "id": "1453fbd5e471a5cd"
    },
    {
      "metadata": {
        "id": "1db49e463da46021"
      },
      "cell_type": "markdown",
      "source": [
        "### Задание №1\n",
        "Напишите программу, которая принимает словарь `input_dict` и возвращает строку вида: `ключ=значение&ключ=значение`\n",
        "\n",
        "Строка должна быть лексикографически отсортирована по ключам исходного словаря. Сохраните полученный ответ в `result`."
      ],
      "id": "1db49e463da46021"
    },
    {
      "cell_type": "code",
      "id": "initial_id",
      "metadata": {
        "collapsed": true,
        "ExecuteTime": {
          "end_time": "2024-12-09T13:15:08.317204Z",
          "start_time": "2024-12-09T13:15:08.313520Z"
        },
        "id": "initial_id"
      },
      "source": [
        "input_dict = {'lesson': 2, 'task': 4, 'course': 'python'}\n",
        "result = 'course=python&lesson=2&task=4'"
      ],
      "outputs": [],
      "execution_count": 1
    },
    {
      "metadata": {
        "colab": {
          "base_uri": "https://localhost:8080/"
        },
        "id": "4025e26c2e18bc2f",
        "outputId": "0f35a2e2-4e82-456c-b0d5-4f44de8a2ca2"
      },
      "cell_type": "code",
      "outputs": [
        {
          "output_type": "stream",
          "name": "stdout",
          "text": [
            "course=python&lesson=2&task=4\n"
          ]
        }
      ],
      "execution_count": 3,
      "source": [
        "input_dict = {'lesson': 2, 'task': 4, 'course': 'python'}\n",
        "result = \"&\".join(f\"{key}={value}\" for key, value in sorted(input_dict.items()))\n",
        "print(result)"
      ],
      "id": "4025e26c2e18bc2f"
    },
    {
      "metadata": {
        "id": "782b3120fa932c5d"
      },
      "cell_type": "markdown",
      "source": [
        "### Задание №2\n",
        "Напишите программу, которая будет принимать число n и проверять, кратна ли каждая его цифра цифре, стоящей слева от нее. Ответ сохраните в `result` в виде массива булевых значений результатов проверок.\n",
        "\n",
        "`result` всегда должен начинаться с False, так как слева от первой цифры ничего нет.\n",
        "\n",
        "Пример:\n",
        "```python\n",
        "n = 462825624\n",
        "result = [False, False, False, True, False, False, False, False, True]\n",
        "```"
      ],
      "id": "782b3120fa932c5d"
    },
    {
      "metadata": {
        "ExecuteTime": {
          "end_time": "2024-12-17T21:00:28.477188Z",
          "start_time": "2024-12-17T21:00:28.475122Z"
        },
        "colab": {
          "base_uri": "https://localhost:8080/"
        },
        "id": "657f2f13cbfa3383",
        "outputId": "b37df224-1230-4012-9d47-688fb2fb4f6e"
      },
      "cell_type": "code",
      "source": [
        "n = 462825624\n",
        "\n",
        "# Преобразуем число в строку, чтобы обрабатывать его цифры по отдельности\n",
        "digits = [int(d) for d in str(n)]\n",
        "\n",
        "# Создаем результат, где первая цифра всегда False\n",
        "result = [False]\n",
        "\n",
        "# Проверяем кратность каждой цифры цифре слева\n",
        "for i in range(1, len(digits)):\n",
        "    # Проверяем, делится ли текущая цифра на предыдущую\n",
        "    if digits[i - 1] != 0 and digits[i] % digits[i - 1] == 0:\n",
        "        result.append(True)\n",
        "    else:\n",
        "        result.append(False)\n",
        "\n",
        "print(result)"
      ],
      "id": "657f2f13cbfa3383",
      "outputs": [
        {
          "output_type": "stream",
          "name": "stdout",
          "text": [
            "[False, False, False, True, False, False, False, False, True]\n"
          ]
        }
      ],
      "execution_count": 4
    },
    {
      "metadata": {
        "id": "68f16e7b8c3ee89b"
      },
      "cell_type": "markdown",
      "source": [
        "### Задание №3\n",
        "Напишите программу, которая анализирует введенный текст и возвращает статистику. Требуется реализовать **несколько функций**, каждая из которых будет выполнять определенную задачу.\n",
        "\n",
        "---\n",
        "\n",
        "**Остановимся более подробно:**\n",
        "1. Напишите функцию **`count_letters(text)`**, которая возвращает количество букв (только латиницы и кириллицы) в тексте.\n",
        "2. Напишите функцию **`count_digits(text)`**, которая возвращает количество цифр.\n",
        "3. Напишите функцию **`count_words(text)`**, которая возвращает количество слов. Слово — это последовательность букв.\n",
        "4. Напишите функцию **`analyze_text(text)`**, которая вызывает все вышеперечисленные функции и возвращает общий результат в виде словаря:\n",
        "   ```python\n",
        "   {\n",
        "       \"letters\": <количество букв>,\n",
        "       \"digits\": <количество цифр>,\n",
        "       \"words\": <количество слов>\n",
        "   }\n",
        "   ```\n",
        "5. Выведите результат работы функции **`analyze_text`** для введенной строки.\n",
        "\n",
        "\n",
        "**Пример работы программы:**\n",
        "\n",
        "Ввод:\n",
        "```\n",
        "Введите текст: Привет, это тестовый текст 123, с 7 словами!\n",
        "```\n",
        "\n",
        "Вывод:\n",
        "```\n",
        "Анализ текста:\n",
        "Количество букв: 24\n",
        "Количество цифр: 4\n",
        "Количество слов: 7\n",
        "```\n",
        "\n",
        "\n",
        "\n"
      ],
      "id": "68f16e7b8c3ee89b"
    },
    {
      "metadata": {
        "colab": {
          "base_uri": "https://localhost:8080/"
        },
        "id": "dc3147cbb4f8da7c",
        "outputId": "cc603173-edc9-49e8-c5e5-232af8cd805f"
      },
      "cell_type": "code",
      "outputs": [
        {
          "output_type": "stream",
          "name": "stdout",
          "text": [
            "Введите текст: hello everyone 888 9, 0! thanks\n",
            "\n",
            "Анализ текста:\n",
            "Количество букв: 19\n",
            "Количество цифр: 5\n",
            "Количество слов: 3\n"
          ]
        }
      ],
      "execution_count": 7,
      "source": [
        "import re\n",
        "\n",
        "# Функция для подсчета количества букв (латиница и кириллица)\n",
        "def count_letters(text):\n",
        "    return len(re.findall(r'[a-zA-Zа-яА-Я]', text))\n",
        "\n",
        "# Функция для подсчета количества цифр\n",
        "def count_digits(text):\n",
        "    return len(re.findall(r'\\d', text))\n",
        "\n",
        "# Функция для подсчета количества слов\n",
        "def count_words(text):\n",
        "    return len(re.findall(r'\\b[a-zA-Zа-яА-Я]+\\b', text))\n",
        "\n",
        "# Функция для анализа текста\n",
        "def analyze_text(text):\n",
        "    return {\n",
        "        \"letters\": count_letters(text),\n",
        "        \"digits\": count_digits(text),\n",
        "        \"words\": count_words(text)\n",
        "    }\n",
        "\n",
        "# Запрос ввода от пользователя\n",
        "text = input(\"Введите текст: \")\n",
        "\n",
        "# Анализ текста\n",
        "result = analyze_text(text)\n",
        "\n",
        "# Вывод результатов\n",
        "print(\"\\nАнализ текста:\")\n",
        "print(f\"Количество букв: {result['letters']}\")\n",
        "print(f\"Количество цифр: {result['digits']}\")\n",
        "print(f\"Количество слов: {result['words']}\")"
      ],
      "id": "dc3147cbb4f8da7c"
    },
    {
      "metadata": {
        "id": "9b4c0041c65b1ef2"
      },
      "cell_type": "markdown",
      "source": [
        "### Задача: Распределение учеников по факультетам Хогвартса\n",
        "\n",
        "В Хогвартсе проходит церемония распределения первокурсников. На основании качеств, которые видит распределяющая шляпа, учеников зачисляют на один из факультетов:  \n",
        "\n",
        "- **Гриффиндор**: отвага, доброта, решительность.  \n",
        "- **Пуффендуй**: усердие, дружелюбие, терпимость.  \n",
        "- **Когтевран**: знание, изобретательность, рассудительность.  \n",
        "- **Слизерин**: амбиции, находчивость, целеустремленность.  \n",
        "\n",
        "Необходимо реализовать функцию `sorting_hat()`, которая принимает словарь с учениками, где:  \n",
        "- **Ключ** — имя ученика.  \n",
        "- **Значение** — качество, определяющее его факультет.  \n",
        "\n",
        "Функция должна вернуть два результата:  \n",
        "\n",
        "1. **sorted_students** — словарь, где ключ — имя ученика, а значение — факультет, на который он зачислен.  \n",
        "   - Данные должны быть отсортированы по названию факультета, а затем по имени ученика.  \n",
        "\n",
        "2. **departments** — словарь, где ключ — факультет, а значение — количество зачисленных учеников.  \n",
        "   - Данные должны быть отсортированы по названию факультета.  \n",
        "\n",
        "### Пример входных данных:  \n",
        "```python\n",
        "new_students = {\n",
        "    'Сириус Блэк': 'отвага',\n",
        "    'Аманда Коршун': 'знание',\n",
        "    'Пенелопа Вулпинголд': 'находчивость',\n",
        "    'Артур Поттер': 'отвага',\n",
        "    'Тесая Блэк': 'изобретательность'\n",
        "}\n",
        "```\n",
        "\n",
        "### Пример результата:  \n",
        "```python\n",
        "# sorted_students:\n",
        "{\n",
        "    'Артур Поттер': 'Гриффиндор',\n",
        "    'Сириус Блэк': 'Гриффиндор',\n",
        "    'Аманда Коршун': 'Когтевран',\n",
        "    'Тесая Блэк': 'Когтевран',\n",
        "    'Пенелопа Вулпинголд': 'Слизерин'\n",
        "}\n",
        "\n",
        "# departments:\n",
        "{\n",
        "    'Гриффиндор': 2,\n",
        "    'Когтевран': 2,\n",
        "    'Пуффендуй': 0,\n",
        "    'Слизерин': 1\n",
        "}\n",
        "```"
      ],
      "id": "9b4c0041c65b1ef2"
    },
    {
      "metadata": {
        "colab": {
          "base_uri": "https://localhost:8080/"
        },
        "id": "4385d4b355c7121f",
        "outputId": "a7b81482-81c6-4925-db69-3553d4d82e1f"
      },
      "cell_type": "code",
      "outputs": [
        {
          "output_type": "stream",
          "name": "stdout",
          "text": [
            "# sorted_students:\n",
            "{'Артур Поттер': 'Гриффиндор', 'Сириус Блэк': 'Гриффиндор', 'Аманда Коршун': 'Когтевран', 'Тесая Блэк': 'Когтевран', 'Пенелопа Вулпинголд': 'Слизерин'}\n",
            "\n",
            "# departments:\n",
            "{'Гриффиндор': 2, 'Когтевран': 2, 'Пуффендуй': 0, 'Слизерин': 1}\n"
          ]
        }
      ],
      "execution_count": 8,
      "source": [
        "def sorting_hat(new_students):\n",
        "    # Сопоставление качеств и факультетов\n",
        "    faculties = {\n",
        "        'Гриффиндор': ['отвага', 'доброта', 'решительность'],\n",
        "        'Пуффендуй': ['усердие', 'дружелюбие', 'терпимость'],\n",
        "        'Когтевран': ['знание', 'изобретательность', 'рассудительность'],\n",
        "        'Слизерин': ['амбиции', 'находчивость', 'целеустремленность']\n",
        "    }\n",
        "\n",
        "    # Инициализируем результат\n",
        "    sorted_students = {}\n",
        "    departments = {faculty: 0 for faculty in faculties}\n",
        "\n",
        "    # Распределяем учеников по факультетам\n",
        "    for student, quality in new_students.items():\n",
        "        for faculty, qualities in faculties.items():\n",
        "            if quality in qualities:\n",
        "                sorted_students[student] = faculty\n",
        "                departments[faculty] += 1\n",
        "                break\n",
        "\n",
        "    # Сортируем результаты\n",
        "    sorted_students = dict(sorted(sorted_students.items(), key=lambda x: (x[1], x[0])))\n",
        "    departments = dict(sorted(departments.items()))\n",
        "\n",
        "    return sorted_students, departments\n",
        "\n",
        "\n",
        "# Пример входных данных\n",
        "new_students = {\n",
        "    'Сириус Блэк': 'отвага',\n",
        "    'Аманда Коршун': 'знание',\n",
        "    'Пенелопа Вулпинголд': 'находчивость',\n",
        "    'Артур Поттер': 'отвага',\n",
        "    'Тесая Блэк': 'изобретательность'\n",
        "}\n",
        "\n",
        "# Вызов функции\n",
        "sorted_students, departments = sorting_hat(new_students)\n",
        "\n",
        "# Вывод результатов\n",
        "print(\"# sorted_students:\")\n",
        "print(sorted_students)\n",
        "\n",
        "print(\"\\n# departments:\")\n",
        "print(departments)"
      ],
      "id": "4385d4b355c7121f"
    },
    {
      "metadata": {
        "id": "ac789ebd9aa897d9"
      },
      "cell_type": "markdown",
      "source": [
        "### Задание №5\n",
        "В `my_string`  хранится зашифрованная строка, например:\n",
        "```python\n",
        "# Зашифрованная строка\n",
        "my_string = 'sccfxpzijc is fuc bcd sxcizicg'\n",
        "```\n",
        "В словаре `secret_dict`  хранится ключ к шифру, набор символов, которые нужно заменить:\n",
        "```python\n",
        "# Словарь шифра\n",
        "\n",
        "secret_dict = {\n",
        "'v': 'w',\n",
        "'x': 'y',\n",
        "'i': 'h',\n",
        "'q': 'l',\n",
        "'c': 'n',\n",
        "'o': 'm',\n",
        "'b': 'a',\n",
        "'f': 'r',\n",
        "'j': 'o',\n",
        "'s': 'e',\n",
        "'z': 't',\n",
        "'g': 'k',\n",
        "'l': ' ',\n",
        "'k': 'c',\n",
        "'m': 'p',\n",
        "'n': 'i',\n",
        "'w': 's',\n",
        "'d': 'f',\n",
        "'u': 'u',\n",
        "'r': 'd',\n",
        "'e': 'x',\n",
        "'y': 'g'}\n",
        "```\n",
        "Таким образом, словарь `secret_dict` говорит нам, что в строке `my_string` букву `v` нужно заменить на `m`, `s` на 'e' и т. д. Если мы сделаем такие замены в строке my_string, то `sckfxmznjclnwlduclbcrlseknzncy` превратится в `encryption is fun and exciting`.\n",
        "\n",
        "Напишите программу, которая расшифровывает строку `my_string = 'nlbolyjccblyszlblzsclnclmxzijc'` при помощи словаря secret_dict. Расшифрованную строку сохраните в переменную decrypted_string."
      ],
      "id": "ac789ebd9aa897d9"
    },
    {
      "metadata": {
        "ExecuteTime": {
          "end_time": "2024-12-17T20:56:24.178896Z",
          "start_time": "2024-12-17T20:56:24.175887Z"
        },
        "colab": {
          "base_uri": "https://localhost:8080/"
        },
        "id": "48c201ee026f8ae5",
        "outputId": "835bb059-c79c-418f-f7b3-ee5c7a208268"
      },
      "cell_type": "code",
      "source": [
        "# Зашифрованная строка\n",
        "my_string = 'nlbolyjccblyszlblzsclnclmxzijc'\n",
        "\n",
        "# Словарь шифра\n",
        "secret_dict = {\n",
        "    'v': 'w', 'x': 'y', 'i': 'h', 'q': 'l', 'c': 'n',\n",
        "    'o': 'm', 'b': 'a', 'f': 'r', 'j': 'o', 's': 'e',\n",
        "    'z': 't', 'g': 'k', 'l': ' ', 'k': 'c', 'm': 'p',\n",
        "    'n': 'i', 'w': 's', 'd': 'f', 'u': 'u', 'r': 'd',\n",
        "    'e': 'x', 'y': 'g'\n",
        "}\n",
        "\n",
        "# Расшифровка строки\n",
        "decrypted_string = ''.join(secret_dict[char] if char in secret_dict else char for char in my_string)\n",
        "\n",
        "# Вывод результата\n",
        "print(decrypted_string)\n"
      ],
      "id": "48c201ee026f8ae5",
      "outputs": [
        {
          "output_type": "stream",
          "name": "stdout",
          "text": [
            "i am gonna get a ten in python\n"
          ]
        }
      ],
      "execution_count": 9
    }
  ],
  "metadata": {
    "kernelspec": {
      "display_name": "Python 3",
      "language": "python",
      "name": "python3"
    },
    "language_info": {
      "codemirror_mode": {
        "name": "ipython",
        "version": 2
      },
      "file_extension": ".py",
      "mimetype": "text/x-python",
      "name": "python",
      "nbconvert_exporter": "python",
      "pygments_lexer": "ipython2",
      "version": "2.7.6"
    },
    "colab": {
      "provenance": []
    }
  },
  "nbformat": 4,
  "nbformat_minor": 5
}