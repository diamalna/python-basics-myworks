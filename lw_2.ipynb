{
  "cells": [
    {
      "metadata": {
        "id": "9e9f885ad1cd3def"
      },
      "cell_type": "markdown",
      "source": [
        "# Лабораторная №2"
      ],
      "id": "9e9f885ad1cd3def"
    },
    {
      "metadata": {
        "id": "425707c53189a3f4"
      },
      "cell_type": "markdown",
      "source": [
        "## Условия, циклы, функции"
      ],
      "id": "425707c53189a3f4"
    },
    {
      "metadata": {
        "id": "2a4a09414a32a3d5"
      },
      "cell_type": "markdown",
      "source": [
        "\n",
        "Нам дали задачу проверить, является ли участок земли квадратным. В переменных `length` и `width` заданы значения длины и ширины участка. Необходимо проверить, является ли он квадратным. Сохраните в переменную `result` значение `True`, если участок квадратный, и `False` — если нет."
      ],
      "id": "2a4a09414a32a3d5"
    },
    {
      "cell_type": "code",
      "id": "initial_id",
      "metadata": {
        "collapsed": true,
        "ExecuteTime": {
          "end_time": "2024-12-09T11:59:00.117606Z",
          "start_time": "2024-12-09T11:59:00.114166Z"
        },
        "id": "initial_id"
      },
      "source": [
        "length = 121\n",
        "width = 100\n",
        "result = False\n",
        "\n",
        "#Пример 2\n",
        "length = 10\n",
        "width = 10\n",
        "result = True"
      ],
      "outputs": [],
      "execution_count": null
    },
    {
      "metadata": {
        "ExecuteTime": {
          "end_time": "2024-12-09T11:59:13.036578Z",
          "start_time": "2024-12-09T11:59:13.033939Z"
        },
        "colab": {
          "base_uri": "https://localhost:8080/"
        },
        "id": "2a8406f5868bba93",
        "outputId": "720f4eba-2005-4dd4-b191-afb932a98f12"
      },
      "cell_type": "code",
      "source": [
        "length = 121\n",
        "width = 100\n",
        "result = length == width\n",
        "print(f\"Участок размером {length}x{width} является квадратным: {result}\")\n",
        "\n",
        "# Пример 2\n",
        "length = 10\n",
        "width = 10\n",
        "result = length == width\n",
        "print(f\"Участок размером {length}x{width} является квадратным: {result}\")"
      ],
      "id": "2a8406f5868bba93",
      "outputs": [
        {
          "output_type": "stream",
          "name": "stdout",
          "text": [
            "Участок размером 121x100 является квадратным: False\n",
            "Участок размером 10x10 является квадратным: True\n"
          ]
        }
      ],
      "execution_count": 1
    },
    {
      "metadata": {
        "id": "83b5067e4a0fa617"
      },
      "cell_type": "markdown",
      "source": [
        "Условия выплаты премий сотрудникам зависят от их стажа работы и определяются следующим образом:\n",
        "\n",
        "- Если стаж работы сотрудника **меньше 3 лет**, премия отсутствует (равна 0).\n",
        "- Если стаж работы сотрудника **от 3 до 6 лет (включительно)**, премия составляет **2 оклада**.\n",
        "- Если стаж работы сотрудника **от 7 до 15 лет (включительно)**, премия составляет **5 окладов**.\n",
        "- Если стаж работы сотрудника **больше 15 лет**, премия составляет **10 окладов**.\n",
        "\n",
        "Значение заработной платы сотрудника хранится в переменной `salary`, стаж работы — в переменной `work_experience`. Требуется вычислить размер премии и сохранить результат в переменной `result`."
      ],
      "id": "83b5067e4a0fa617"
    },
    {
      "metadata": {
        "ExecuteTime": {
          "end_time": "2024-12-09T12:03:56.260649Z",
          "start_time": "2024-12-09T12:03:56.257743Z"
        },
        "id": "4947ebf0ab3ebbd8"
      },
      "cell_type": "code",
      "source": [
        "# Пример 1\n",
        "salary = 150000\n",
        "work_experience = 3\n",
        "result = 300000\n",
        "\n",
        "# Пример 2\n",
        "salary = 100000\n",
        "work_experience = 1\n",
        "result = 0\n",
        "\n",
        "# Пример 3\n",
        "salary = 200000\n",
        "work_experience = 16\n",
        "result = 2000000"
      ],
      "id": "4947ebf0ab3ebbd8",
      "outputs": [],
      "execution_count": null
    },
    {
      "metadata": {
        "ExecuteTime": {
          "end_time": "2024-12-09T12:03:56.915203Z",
          "start_time": "2024-12-09T12:03:56.912679Z"
        },
        "colab": {
          "base_uri": "https://localhost:8080/"
        },
        "id": "1189f927e3a63e2c",
        "outputId": "1107a442-65fd-40eb-d924-668e2f89079b"
      },
      "cell_type": "code",
      "source": [
        "salary = 200000\n",
        "work_experience = 16\n",
        "if work_experience < 3:\n",
        "    result = 0\n",
        "elif 3 <= work_experience <= 6:\n",
        "    result = 2 * salary\n",
        "elif 7 <= work_experience <= 15:\n",
        "    result = 5 * salary\n",
        "else:\n",
        "    result = 10 * salary\n",
        "print(f\"Стаж: {work_experience} лет, Зарплата: {salary}, Премия: {result}\")"
      ],
      "id": "1189f927e3a63e2c",
      "outputs": [
        {
          "output_type": "stream",
          "name": "stdout",
          "text": [
            "Стаж: 16 лет, Зарплата: 200000, Премия: 2000000\n"
          ]
        }
      ],
      "execution_count": 3
    },
    {
      "metadata": {
        "id": "1a47c0bb8604d85e"
      },
      "cell_type": "markdown",
      "source": [
        "Есть словарь `sales`, содержащий информацию о продуктах и их ценах в магазине. В список `affordable_products` нужно сохранить названия всех продуктов, которые стоят меньше или равны 500."
      ],
      "id": "1a47c0bb8604d85e"
    },
    {
      "metadata": {
        "ExecuteTime": {
          "end_time": "2024-12-09T12:07:09.133555Z",
          "start_time": "2024-12-09T12:07:09.130844Z"
        },
        "id": "d4fee48cb2dabcf5"
      },
      "cell_type": "code",
      "source": [
        "sales = {\n",
        "    \"laptop\": 700,\n",
        "    \"smartphone\": 100,\n",
        "    \"headphones\": 50,\n",
        "    \"mouse\": 20,\n",
        "    \"keyboard\": 40\n",
        "}"
      ],
      "id": "d4fee48cb2dabcf5",
      "outputs": [],
      "execution_count": 5
    },
    {
      "metadata": {
        "ExecuteTime": {
          "end_time": "2024-12-09T12:06:09.715210Z",
          "start_time": "2024-12-09T12:06:09.712067Z"
        },
        "colab": {
          "base_uri": "https://localhost:8080/"
        },
        "id": "5bb1f8d2b45d553a",
        "outputId": "f2402dff-14a5-469a-f0b1-e0c1292fc03a"
      },
      "cell_type": "code",
      "source": [
        "affordable_products = [product for product, price in sales.items() if price <= 500]\n",
        "print(\"Доступные продукты:\", affordable_products)"
      ],
      "id": "5bb1f8d2b45d553a",
      "outputs": [
        {
          "output_type": "stream",
          "name": "stdout",
          "text": [
            "Доступные продукты: ['smartphone', 'headphones', 'mouse', 'keyboard']\n"
          ]
        }
      ],
      "execution_count": 11
    },
    {
      "metadata": {
        "id": "68ac8bcb0e04fdc5"
      },
      "cell_type": "markdown",
      "source": [
        "Напишите программу, принимающую в виде аргументов два списка `lst_1` и `lst_2` и определяющую, являются ли они противоположными друг другу. Результат проверки сохраните в result в формате True или False.\n",
        "\n",
        "Каждая пара списков будет состоять из одинаковых элементов (типа a и b). Список считается анти-списком, если все элементы в нем противоположны соответствующим элементам в первом списке.\n"
      ],
      "id": "68ac8bcb0e04fdc5"
    },
    {
      "metadata": {
        "ExecuteTime": {
          "end_time": "2024-12-09T12:10:09.592660Z",
          "start_time": "2024-12-09T12:10:09.589368Z"
        },
        "id": "c247de3ee5a9e60a"
      },
      "cell_type": "code",
      "source": [
        "lst_1 = [\"1\", \"0\", \"0\", \"1\"]\n",
        "lst_2 = [\"0\", \"1\", \"1\", \"0\"]\n",
        "result = True\n",
        "\n",
        "lst_1 = [3, 4]\n",
        "lst_2 = [4, 3]\n",
        "result = True\n",
        "\n",
        "lst_1 = [1, 1]\n",
        "lst_2 = [2, 2]\n",
        "result = False\n"
      ],
      "id": "c247de3ee5a9e60a",
      "outputs": [],
      "execution_count": null
    },
    {
      "metadata": {
        "colab": {
          "base_uri": "https://localhost:8080/"
        },
        "id": "c1b907387b93a29a",
        "outputId": "92750a97-0c94-4db5-fe61-b55592290a36"
      },
      "cell_type": "code",
      "outputs": [
        {
          "output_type": "stream",
          "name": "stdout",
          "text": [
            "Списки ['1', '0', '0', '1'] и ['0', '1', '1', '0'] противоположны: True\n",
            "Списки [3, 4] и [4, 3] противоположны: True\n",
            "Списки [1, 1] и [2, 2] противоположны: True\n"
          ]
        }
      ],
      "execution_count": 15,
      "source": [
        "# Проверка противоположности списков\n",
        "def are_opposite_lists(lst_1, lst_2):\n",
        "    if len(lst_1) != len(lst_2):\n",
        "        return False\n",
        "\n",
        "    for a, b in zip(lst_1, lst_2):\n",
        "        if a == b:\n",
        "            return False\n",
        "\n",
        "    return True\n",
        "\n",
        "# Пример 1\n",
        "lst_1 = [\"1\", \"0\", \"0\", \"1\"]\n",
        "lst_2 = [\"0\", \"1\", \"1\", \"0\"]\n",
        "result = are_opposite_lists(lst_1, lst_2)\n",
        "print(f\"Списки {lst_1} и {lst_2} противоположны: {result}\")\n",
        "\n",
        "# Пример 2\n",
        "lst_1 = [3, 4]\n",
        "lst_2 = [4, 3]\n",
        "result = are_opposite_lists(lst_1, lst_2)\n",
        "print(f\"Списки {lst_1} и {lst_2} противоположны: {result}\")\n",
        "\n",
        "# Пример 3\n",
        "lst_1 = [1, 1]\n",
        "lst_2 = [2, 2]\n",
        "result = are_opposite_lists(lst_1, lst_2)\n",
        "print(f\"Списки {lst_1} и {lst_2} противоположны: {result}\")"
      ],
      "id": "c1b907387b93a29a"
    },
    {
      "cell_type": "markdown",
      "source": [],
      "metadata": {
        "id": "OvFPxL5BB1tn"
      },
      "id": "OvFPxL5BB1tn"
    },
    {
      "metadata": {
        "id": "e6c61ed00e1f78e7"
      },
      "cell_type": "markdown",
      "source": [
        "Задана переменная `m` — список из списков одинаковой длины. Проверьте, что суммы элементов на диагоналях равны.\n",
        "\n",
        "Результат проверки сохраните в `result` в формате True или False."
      ],
      "id": "e6c61ed00e1f78e7"
    },
    {
      "metadata": {
        "ExecuteTime": {
          "end_time": "2024-12-09T22:13:25.877832Z",
          "start_time": "2024-12-09T22:13:25.865474Z"
        },
        "id": "52f6aa07b6b69e8"
      },
      "cell_type": "code",
      "source": [
        "# Пример 1\n",
        "m = [[1, 23, 4],\n",
        "     [3, 2, 1],\n",
        "     [6, 3, 4]]\n",
        "result = False\n",
        "\n",
        "# Пример 2\n",
        "m = [[1, 23, 4],\n",
        "     [3, 2, 1],\n",
        "     [1, 3, 4]]\n",
        "result = True"
      ],
      "id": "52f6aa07b6b69e8",
      "outputs": [],
      "execution_count": null
    },
    {
      "metadata": {
        "ExecuteTime": {
          "end_time": "2024-12-09T22:13:30.410637Z",
          "start_time": "2024-12-09T22:13:30.407043Z"
        },
        "colab": {
          "base_uri": "https://localhost:8080/"
        },
        "id": "e305f64695a0519c",
        "outputId": "47c34f73-090a-4375-aa7d-bfe64cfca343"
      },
      "cell_type": "code",
      "source": [
        "def check_diagonal_sums(m):\n",
        "    n = len(m)\n",
        "    main_diag_sum = sum(m[i][i] for i in range(n))\n",
        "    anti_diag_sum = sum(m[i][n - i - 1] for i in range(n))\n",
        "    return main_diag_sum == anti_diag_sum\n",
        "\n",
        "# Примеры использования для диагоналей\n",
        "m = [[1, 23, 4],\n",
        "     [3, 2, 1],\n",
        "     [6, 3, 4]]\n",
        "result = check_diagonal_sums(m)\n",
        "print(result)  # False\n",
        "\n",
        "m = [[1, 23, 4],\n",
        "     [3, 2, 1],\n",
        "     [1, 3, 4]]\n",
        "result = check_diagonal_sums(m)\n",
        "print(result)  # True"
      ],
      "id": "e305f64695a0519c",
      "outputs": [
        {
          "output_type": "stream",
          "name": "stdout",
          "text": [
            "False\n",
            "True\n"
          ]
        }
      ],
      "execution_count": 16
    },
    {
      "metadata": {
        "id": "32734e2d177c9fa"
      },
      "cell_type": "markdown",
      "source": [
        "Дан список кортежей `input_list`. Отсортируйте `input_list` по 2 элементу кортежа в порядке убывания. Отфильтруйте список так, чтобы остались только те элементы, второе значение в кортеже у которых кратно 5.\n",
        "\n",
        "Результат сохраните в `result`.\n",
        "\n",
        "Для решения задачи используйте lambda-функцию."
      ],
      "id": "32734e2d177c9fa"
    },
    {
      "metadata": {
        "ExecuteTime": {
          "end_time": "2024-12-09T22:14:35.143038Z",
          "start_time": "2024-12-09T22:14:35.135629Z"
        },
        "id": "54ca7285b6d4f539"
      },
      "cell_type": "code",
      "source": [
        "input_list = [('Anna', 13), ('Ivan', 20), ('Irina', 23), ('Olga', 25),\n",
        "              ('Ivan', 30), ('Oleg', 24), ('Olga', 26)]\n",
        "result = [('Ivan', 30), ('Olga', 25), ('Ivan', 20)]"
      ],
      "id": "54ca7285b6d4f539",
      "outputs": [],
      "execution_count": null
    },
    {
      "metadata": {
        "colab": {
          "base_uri": "https://localhost:8080/"
        },
        "id": "9c9b829170cb8f2a",
        "outputId": "95372a16-127c-4cb1-991c-03b4e05b36e6"
      },
      "cell_type": "code",
      "outputs": [
        {
          "output_type": "stream",
          "name": "stdout",
          "text": [
            "[('Ivan', 30), ('Olga', 25), ('Ivan', 20)]\n"
          ]
        }
      ],
      "execution_count": 17,
      "source": [
        "def filter_and_sort_tuples(input_list):\n",
        "    filtered = filter(lambda x: x[1] % 5 == 0, input_list)\n",
        "    sorted_list = sorted(filtered, key=lambda x: x[1], reverse=True)\n",
        "    return sorted_list\n",
        "\n",
        "input_list = [('Anna', 13), ('Ivan', 20), ('Irina', 23), ('Olga', 25),\n",
        "              ('Ivan', 30), ('Oleg', 24), ('Olga', 26)]\n",
        "result = filter_and_sort_tuples(input_list)\n",
        "print(result)  # [('Ivan', 30), ('Olga', 25), ('Ivan', 20)]"
      ],
      "id": "9c9b829170cb8f2a"
    },
    {
      "metadata": {
        "id": "d7f53fd342d1cd0f"
      },
      "cell_type": "markdown",
      "source": [
        "Гипотеза Коллатца: какое бы начальное натуральное число n мы ни взяли, рано или поздно мы получим единицу, если выполняем следующие преобразования:\n",
        "\n",
        "- Если n чётное, то делим его на 2;\n",
        "- Если n нечётное, то умножаем на 3 и прибавляем 1 (получаем 3n + 1).\n",
        "Напишите функцию `def collatz_conjecture()`, которая будет принимать натуральное число n и возвращать последовательность чисел, полученных указанными выше преобразованиями."
      ],
      "id": "d7f53fd342d1cd0f"
    },
    {
      "metadata": {
        "ExecuteTime": {
          "end_time": "2024-12-09T22:15:55.028720Z",
          "start_time": "2024-12-09T22:15:55.023155Z"
        },
        "id": "a11c1692c9761fa4"
      },
      "cell_type": "code",
      "source": [
        "def collatz_conjecture(n):\n",
        "    ...\n",
        "\n",
        "collatz_conjecture(8) # -> [8, 4, 2, 1]\n",
        "collatz_conjecture(3) # -> [3, 10, 5, 16, 8, 4, 2, 1]\n"
      ],
      "id": "a11c1692c9761fa4",
      "outputs": [],
      "execution_count": null
    },
    {
      "metadata": {
        "ExecuteTime": {
          "end_time": "2024-12-09T12:17:45.752499Z",
          "start_time": "2024-12-09T12:17:45.750033Z"
        },
        "colab": {
          "base_uri": "https://localhost:8080/"
        },
        "id": "5b5cc07ed41f2515",
        "outputId": "596ba4ff-c0ef-4091-cd7f-334e30ed6aab"
      },
      "cell_type": "code",
      "source": [
        "def collatz_conjecture(n):\n",
        "    sequence = [n]\n",
        "    while n != 1:\n",
        "        if n % 2 == 0:\n",
        "            n //= 2\n",
        "        else:\n",
        "            n = 3 * n + 1\n",
        "        sequence.append(n)\n",
        "    return sequence\n",
        "\n",
        "print(collatz_conjecture(12))\n",
        "print(collatz_conjecture(3))"
      ],
      "id": "5b5cc07ed41f2515",
      "outputs": [
        {
          "output_type": "stream",
          "name": "stdout",
          "text": [
            "[12, 6, 3, 10, 5, 16, 8, 4, 2, 1]\n",
            "[3, 10, 5, 16, 8, 4, 2, 1]\n"
          ]
        }
      ],
      "execution_count": 21
    }
  ],
  "metadata": {
    "kernelspec": {
      "display_name": "Python 3",
      "language": "python",
      "name": "python3"
    },
    "language_info": {
      "codemirror_mode": {
        "name": "ipython",
        "version": 2
      },
      "file_extension": ".py",
      "mimetype": "text/x-python",
      "name": "python",
      "nbconvert_exporter": "python",
      "pygments_lexer": "ipython2",
      "version": "2.7.6"
    },
    "colab": {
      "provenance": [],
      "toc_visible": true
    }
  },
  "nbformat": 4,
  "nbformat_minor": 5
}