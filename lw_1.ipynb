{
  "cells": [
    {
      "metadata": {
        "id": "9a81179d10da8330"
      },
      "cell_type": "markdown",
      "source": [
        "# Лабораторная №1"
      ],
      "id": "9a81179d10da8330"
    },
    {
      "metadata": {
        "id": "13feb24fde5be69a"
      },
      "cell_type": "markdown",
      "source": [
        "## Типы данных"
      ],
      "id": "13feb24fde5be69a"
    },
    {
      "metadata": {
        "id": "535f9e86de783809"
      },
      "cell_type": "markdown",
      "source": [
        "Создайте программу, которая будет приветствовать пользователя:\n",
        "Сначала попросите пользователя ввести свое имя.\n",
        "Затем выведите приветственное сообщение, используя введенное имя."
      ],
      "id": "535f9e86de783809"
    },
    {
      "metadata": {
        "id": "6023d4389ce6cd8"
      },
      "cell_type": "markdown",
      "source": [
        "#### Пример:\n",
        "Enter your name: Olya\\\n",
        "Hi, Olya! Welcome!\n"
      ],
      "id": "6023d4389ce6cd8"
    },
    {
      "cell_type": "code",
      "id": "initial_id",
      "metadata": {
        "collapsed": true,
        "ExecuteTime": {
          "end_time": "2024-12-09T11:54:52.877187Z",
          "start_time": "2024-12-09T11:54:52.874622Z"
        },
        "colab": {
          "base_uri": "https://localhost:8080/"
        },
        "id": "initial_id",
        "outputId": "72dc5d54-7b50-4b53-d52e-09e8dfd65101"
      },
      "source": [
        "name = input(\"Enter your name here: \")\n",
        "print(f\"Hi, {name}! Welcome!\")"
      ],
      "outputs": [
        {
          "output_type": "stream",
          "name": "stdout",
          "text": [
            "Enter your name here: Diana\n",
            "Hi, Diana! Welcome!\n"
          ]
        }
      ],
      "execution_count": null
    },
    {
      "metadata": {
        "id": "c974779de734f3f5"
      },
      "cell_type": "markdown",
      "source": [
        "\n",
        "1. Создайте переменную `user_name` и сохраните в нее имя пользователя (строка, минимум из двух символов).\n",
        "2. Создайте переменную `device_name` и сохраните в нее название устройства (строка, минимум из двух символов).\n",
        "3. Создайте переменную `device_age`, в которой будет храниться возраст устройства (неотрицательное число).\n",
        "4. Создайте переменную `is_under_warranty`, которая будет содержать значение `True`, если устройство на гарантии, или `False`, если нет."
      ],
      "id": "c974779de734f3f5"
    },
    {
      "metadata": {
        "ExecuteTime": {
          "end_time": "2024-12-08T09:01:43.897304Z",
          "start_time": "2024-12-08T09:01:43.893859Z"
        },
        "colab": {
          "base_uri": "https://localhost:8080/"
        },
        "id": "1706cc04f917c519",
        "outputId": "98ef16fb-cf49-44f2-f19c-706eefed9555"
      },
      "cell_type": "code",
      "source": [
        "while True:\n",
        "    user_name = input(\"Введите имя пользователя (минимум 2 символа): \").strip()\n",
        "    if len(user_name) >= 2:\n",
        "        break\n",
        "    else:\n",
        "        print(\"Ошибка: имя пользователя должно содержать минимум два символа.\")\n",
        "\n",
        "while True:\n",
        "    device_name = input(\"Введите название устройства (минимум 2 символа): \").strip()\n",
        "    if len(device_name) >= 2:\n",
        "        break\n",
        "    else:\n",
        "        print(\"Ошибка: название устройства должно содержать минимум два символа.\")\n",
        "\n",
        "while True:\n",
        "    try:\n",
        "        device_age = int(input(\"Введите возраст устройства (неотрицательное число): \"))\n",
        "        if device_age >= 0:\n",
        "            break\n",
        "        else:\n",
        "            print(\"Ошибка: возраст устройства должен быть неотрицательным числом.\")\n",
        "    except ValueError:\n",
        "        print(\"Ошибка: введите числовое значение.\")\n",
        "\n",
        "while True:\n",
        "    warranty_input = input(\"На гарантии ли устройство? (да/нет): \").strip().lower()\n",
        "    if warranty_input in [\"да\", \"нет\"]:\n",
        "        is_under_warranty = warranty_input == \"да\"\n",
        "        break\n",
        "    else:\n",
        "        print(\"Ошибка: введите 'да' или 'нет'.\")\n",
        "\n",
        "# Вывод всех переменных\n",
        "print(\"\\nСведения о пользователе и устройстве:\")\n",
        "print(f\"Имя пользователя: {user_name}\")\n",
        "print(f\"Название устройства: {device_name}\")\n",
        "print(f\"Возраст устройства: {device_age} лет\")\n",
        "print(f\"На гарантии: {'Да' if is_under_warranty else 'Нет'}\")"
      ],
      "id": "1706cc04f917c519",
      "outputs": [
        {
          "output_type": "stream",
          "name": "stdout",
          "text": [
            "Введите имя пользователя (минимум 2 символа): h\n",
            "Ошибка: имя пользователя должно содержать минимум два символа.\n",
            "Введите имя пользователя (минимум 2 символа): Diana\n",
            "Введите название устройства (минимум 2 символа): laptop\n",
            "Введите возраст устройства (неотрицательное число): 8\n",
            "На гарантии ли устройство? (да/нет): нет\n",
            "\n",
            "Сведения о пользователе и устройстве:\n",
            "Имя пользователя: Diana\n",
            "Название устройства: laptop\n",
            "Возраст устройства: 8 лет\n",
            "На гарантии: Нет\n"
          ]
        }
      ],
      "execution_count": null
    },
    {
      "metadata": {
        "id": "9167b3f37213d5a8"
      },
      "cell_type": "markdown",
      "source": [
        "Выведите на экран тип данных для определенных ранее переменных."
      ],
      "id": "9167b3f37213d5a8"
    },
    {
      "metadata": {
        "ExecuteTime": {
          "end_time": "2024-12-08T09:01:50.986354Z",
          "start_time": "2024-12-08T09:01:50.983207Z"
        },
        "colab": {
          "base_uri": "https://localhost:8080/"
        },
        "id": "a5fde07e6e8977cb",
        "outputId": "996ff92c-23e7-4070-8aaa-0feb4d8dd682"
      },
      "cell_type": "code",
      "source": [
        "print(f\"Тип переменной user_name: {type(user_name)}\")  # str (строка)\n",
        "print(f\"Тип переменной device_name: {type(device_name)}\")  # str (строка)\n",
        "print(f\"Тип переменной device_age: {type(device_age)}\")  # int (целое число)\n",
        "print(f\"Тип переменной is_under_warranty: {type(is_under_warranty)}\")  # bool (логический тип)"
      ],
      "id": "a5fde07e6e8977cb",
      "outputs": [
        {
          "output_type": "stream",
          "name": "stdout",
          "text": [
            "Тип переменной user_name: <class 'str'>\n",
            "Тип переменной device_name: <class 'str'>\n",
            "Тип переменной device_age: <class 'int'>\n",
            "Тип переменной is_under_warranty: <class 'bool'>\n"
          ]
        }
      ],
      "execution_count": null
    },
    {
      "metadata": {
        "id": "4beb2fbddf03bbda"
      },
      "cell_type": "markdown",
      "source": [
        "1. Преобразуйте строку имени в нижний регистр и сохраните результат в новой переменной.\n",
        "2. Создайте строку по шаблону `\"user_name__object_name\"`.\n",
        "3. Выведите длину получившейся строки."
      ],
      "id": "4beb2fbddf03bbda"
    },
    {
      "metadata": {
        "ExecuteTime": {
          "end_time": "2024-12-08T09:05:20.954730Z",
          "start_time": "2024-12-08T09:05:20.951642Z"
        },
        "colab": {
          "base_uri": "https://localhost:8080/"
        },
        "id": "573c572586967639",
        "outputId": "84e15d8f-8aaf-42d2-b49b-f729d5177cd9"
      },
      "cell_type": "code",
      "source": [
        "user_name_lower = user_name.lower()\n",
        "result_string = f\"{user_name_lower}__{device_name}\"\n",
        "result_length = len(result_string)\n",
        "\n",
        "print(f\"Имя пользователя в нижнем регистре: {user_name_lower}\")\n",
        "print(f\"Строка по шаблону: {result_string}\")\n",
        "print(f\"Длина строки: {result_length}\")"
      ],
      "id": "573c572586967639",
      "outputs": [
        {
          "output_type": "stream",
          "name": "stdout",
          "text": [
            "Имя пользователя в нижнем регистре: diana\n",
            "Строка по шаблону: diana__laptop\n",
            "Длина строки: 13\n"
          ]
        }
      ],
      "execution_count": null
    },
    {
      "metadata": {
        "id": "5d547bfdd571f872"
      },
      "cell_type": "markdown",
      "source": [
        "Используя навыки форматирования строк в Python, выведите на экран следующую фразу, подставив значения переменных:\n",
        "\"{user_name} недавно приобрел {object_name}, которому всего {object_age} лет.\""
      ],
      "id": "5d547bfdd571f872"
    },
    {
      "metadata": {
        "ExecuteTime": {
          "end_time": "2024-12-08T09:36:31.294315Z",
          "start_time": "2024-12-08T09:36:31.291576Z"
        },
        "id": "93d009ebee158763",
        "colab": {
          "base_uri": "https://localhost:8080/"
        },
        "outputId": "86396293-0d65-4874-f3e9-be9e9395cb52"
      },
      "cell_type": "code",
      "source": [
        "print(f\"{user_name} недавно приобрел {device_name}, которому всего {device_age} лет.\")"
      ],
      "id": "93d009ebee158763",
      "outputs": [
        {
          "output_type": "stream",
          "name": "stdout",
          "text": [
            "Diana недавно приобрел laptop, которому всего 8 лет.\n"
          ]
        }
      ],
      "execution_count": null
    },
    {
      "metadata": {
        "id": "b182d7062fd2ec90"
      },
      "cell_type": "markdown",
      "source": [
        "Нам интересно узнать, является ли имя объекта палиндромом. Проверьте это, используя срезы."
      ],
      "id": "b182d7062fd2ec90"
    },
    {
      "metadata": {
        "ExecuteTime": {
          "end_time": "2024-12-08T22:18:14.739713Z",
          "start_time": "2024-12-08T22:18:14.735804Z"
        },
        "id": "8de8e4c76fac1e71",
        "colab": {
          "base_uri": "https://localhost:8080/"
        },
        "outputId": "2906b22d-d19c-4c25-b3c1-686829e5682e"
      },
      "cell_type": "code",
      "source": [
        "is_palindrome = device_name == device_name[::-1]\n",
        "print(f\"The device name is {'a palindrome' if is_palindrome else 'not a palindrome'}.\")"
      ],
      "id": "8de8e4c76fac1e71",
      "outputs": [
        {
          "output_type": "stream",
          "name": "stdout",
          "text": [
            "The device name is not a palindrome.\n"
          ]
        }
      ],
      "execution_count": null
    },
    {
      "metadata": {
        "id": "b0158dd42eeebfed"
      },
      "cell_type": "markdown",
      "source": [
        "В переменной `our_text` сохранено некоторое предложение, в котором могут быть добавлены лишние пробелы. Напишите программу, которая будет убирать из `our_text` лишние пробелы и сохранять результат в переменную `result`.\n",
        "Все слова должны быть разделены одним пробелом, а в начале и конце предложения пробелов быть не должно."
      ],
      "id": "b0158dd42eeebfed"
    },
    {
      "metadata": {
        "ExecuteTime": {
          "end_time": "2024-12-08T10:05:12.367240Z",
          "start_time": "2024-12-08T10:05:12.363874Z"
        },
        "id": "3cd4f31f635bca0"
      },
      "cell_type": "code",
      "source": [
        "our_text = \"We     are located  on Pushkin      Street.   \"\n",
        "result = \"We are located on Pushkin Street.\""
      ],
      "id": "3cd4f31f635bca0",
      "outputs": [],
      "execution_count": null
    },
    {
      "metadata": {
        "ExecuteTime": {
          "end_time": "2024-12-08T22:29:49.603518Z",
          "start_time": "2024-12-08T22:29:49.600307Z"
        },
        "id": "36705cf2b1431541",
        "colab": {
          "base_uri": "https://localhost:8080/"
        },
        "outputId": "f3eee075-ff1f-4f73-d3f0-f10111ba0c02"
      },
      "cell_type": "code",
      "source": [
        "our_text = \"We     are located  on Pushkin      Street.   \"\n",
        "result = ' '.join(our_text.split())\n",
        "print(result)"
      ],
      "id": "36705cf2b1431541",
      "outputs": [
        {
          "output_type": "stream",
          "name": "stdout",
          "text": [
            "We are located on Pushkin Street.\n"
          ]
        }
      ],
      "execution_count": null
    },
    {
      "metadata": {
        "id": "df621069ed13e48"
      },
      "cell_type": "markdown",
      "source": [
        "Мы хотим улучшить процесс шифрования и хранения информации о платежах, чтобы обеспечить конфиденциальность и защиту данных.\\\n",
        "Напишите программу, которая будет принимать номер кредитной карты `card` и возвращать номер карты, в котором будут видны только последние 4 цифры. Остальные цифры должны заменяться звездочками.\\\n",
        "Результат сохраните в `result`."
      ],
      "id": "df621069ed13e48"
    },
    {
      "metadata": {
        "ExecuteTime": {
          "end_time": "2024-12-08T10:06:51.486317Z",
          "start_time": "2024-12-08T10:06:51.483740Z"
        },
        "id": "5cee3863129cccf0"
      },
      "cell_type": "code",
      "source": [
        "card = '5468350018455833'\n",
        "result = '************5833'"
      ],
      "id": "5cee3863129cccf0",
      "outputs": [],
      "execution_count": null
    },
    {
      "metadata": {
        "ExecuteTime": {
          "end_time": "2024-12-16T13:11:20.636562Z",
          "start_time": "2024-12-16T13:11:20.615021Z"
        },
        "id": "a16eca170ac4f54b",
        "outputId": "c819dbcb-cd92-449f-fb83-3f89a456b533",
        "colab": {
          "base_uri": "https://localhost:8080/"
        }
      },
      "cell_type": "code",
      "source": [
        "card = '5468350018455833'\n",
        "result = f\"{'*' * (len(card) - 4)}{card[-4:]}\"\n",
        "print(result)"
      ],
      "id": "a16eca170ac4f54b",
      "outputs": [
        {
          "output_type": "stream",
          "name": "stdout",
          "text": [
            "************5833\n"
          ]
        }
      ],
      "execution_count": null
    },
    {
      "metadata": {
        "id": "800123d387461d89"
      },
      "cell_type": "markdown",
      "source": [
        "В переменной `my_list` сохранен не пустой список, в котором есть число 11.\n",
        "\n",
        "Найдите первый индекс числа 11 в `my_list`, сохраните индекс в переменную `eleven_index`.\n",
        "\n",
        "В переменную `ten_count` сохраните, сколько раз в списке `my_list` встречается число 10."
      ],
      "id": "800123d387461d89"
    },
    {
      "metadata": {
        "ExecuteTime": {
          "end_time": "2024-12-09T21:57:31.750794Z",
          "start_time": "2024-12-09T21:57:31.738571Z"
        },
        "id": "c648910d57bbaea4"
      },
      "cell_type": "code",
      "source": [
        "my_list = [1, 9, 0, 9, 10]\n",
        "ten_index = 4\n",
        "nine_count = 2\n",
        "\n",
        "\n",
        "my_list = [11, 2, 0, 6]\n",
        "ten_index = 0\n",
        "nine_count = 0"
      ],
      "id": "c648910d57bbaea4",
      "outputs": [],
      "execution_count": null
    },
    {
      "metadata": {
        "ExecuteTime": {
          "end_time": "2024-12-08T23:07:55.934563Z",
          "start_time": "2024-12-08T23:07:55.932024Z"
        },
        "id": "a7ffd1e1c7452fe2",
        "colab": {
          "base_uri": "https://localhost:8080/"
        },
        "outputId": "0e2279ec-e660-452b-d801-cb4168f5c8d3"
      },
      "cell_type": "code",
      "source": [
        "my_list = [1, 11, 2, 10, 11, 6]\n",
        "eleven_index = my_list.index(11) if 11 in my_list else -1\n",
        "ten_count = my_list.count(10)\n",
        "nine_count = my_list.count(9)\n",
        "print(\"Index of 11:\", eleven_index)\n",
        "print(\"Count of 10:\", ten_count)\n",
        "print(\"Count of 9:\", nine_count)"
      ],
      "id": "a7ffd1e1c7452fe2",
      "outputs": [
        {
          "output_type": "stream",
          "name": "stdout",
          "text": [
            "Index of 11: 1\n",
            "Count of 10: 1\n",
            "Count of 9: 0\n"
          ]
        }
      ],
      "execution_count": null
    },
    {
      "metadata": {
        "id": "1b82470f1fe0d82e"
      },
      "cell_type": "markdown",
      "source": [
        "1. В списке `names` содержатся различные имена. Добавьте в этот список два новых имени: `'Ann'` и `'Bob'`.\n",
        "2. В списке `dates` содержится список из десяти чисел, представляющих дни месяца. Удалите из этого списка второй, пятый и последний день. Учтите, что индексы элементов смещаются после каждой операции удаления.\n",
        "3. В списке `items` содержатся названия различных элементов. Отсортируйте этот список в алфавитном порядке."
      ],
      "id": "1b82470f1fe0d82e"
    },
    {
      "metadata": {
        "ExecuteTime": {
          "end_time": "2024-12-08T23:10:46.481634Z",
          "start_time": "2024-12-08T23:10:46.477465Z"
        },
        "id": "9ebac36854610ddb"
      },
      "cell_type": "code",
      "outputs": [],
      "execution_count": null,
      "source": [
        "names = ['Peter', 'Maria', 'Alexander', 'Olga']\n",
        "dates = [1, 3, 5, 7, 9, 10, 12, 14, 16, 18]\n",
        "items = ['Lamp', 'Table', 'Book', 'Pen', 'Notebook']\n"
      ],
      "id": "9ebac36854610ddb"
    },
    {
      "metadata": {
        "ExecuteTime": {
          "end_time": "2024-12-08T23:10:52.145141Z",
          "start_time": "2024-12-08T23:10:52.142787Z"
        },
        "id": "d0bc008d95ee498b",
        "colab": {
          "base_uri": "https://localhost:8080/"
        },
        "outputId": "82cb34a9-bc32-4ca7-95c2-85d35764087b"
      },
      "cell_type": "code",
      "outputs": [
        {
          "output_type": "stream",
          "name": "stdout",
          "text": [
            "Updated names (after additions): ['Peter', 'Maria', 'Alexander', 'Olga', 'Ann', 'Bob', 'Chris', 'Diana', 'Eve', 'Frank']\n",
            "Updated dates (using del): [1, 5, 7, 10, 12, 14, 16]\n",
            "Updated dates (using pop): [1, 5, 7, 10, 12, 14, 16]\n",
            "Sorted items (using sort): ['Book', 'Lamp', 'Notebook', 'Pen', 'Table']\n",
            "Sorted items (using sorted): ['Book', 'Lamp', 'Notebook', 'Pen', 'Table']\n"
          ]
        }
      ],
      "execution_count": null,
      "source": [
        "# Исходные списки\n",
        "names = ['Peter', 'Maria', 'Alexander', 'Olga']\n",
        "dates = [1, 3, 5, 7, 9, 10, 12, 14, 16, 18]\n",
        "items = ['Lamp', 'Table', 'Book', 'Pen', 'Notebook']\n",
        "\n",
        "# Добавление элементов в names---------------------------\n",
        "#\n",
        "# Способ 1: append()\n",
        "names.append('Ann')\n",
        "names.append('Bob')\n",
        "\n",
        "# Способ 2: extend()\n",
        "names.extend(['Chris', 'Diana'])\n",
        "\n",
        "# Способ 3: += оператор\n",
        "names += ['Eve', 'Frank']\n",
        "\n",
        "print(\"Updated names (after additions):\", names)\n",
        "\n",
        "# Удаление элементов из dates----------------------\n",
        "#\n",
        "# Исходные списки для удаления\n",
        "dates_1 = dates[:]\n",
        "dates_2 = dates[:]\n",
        "\n",
        "# Способ 1: del\n",
        "del dates_1[-1]  # Удаляем последний элемент\n",
        "del dates_1[4]   # Удаляем пятый элемент\n",
        "del dates_1[1]   # Удаляем второй элемент\n",
        "print(\"Updated dates (using del):\", dates_1)\n",
        "\n",
        "# Способ 2: pop()\n",
        "dates_2.pop(-1)  # Удаляем последний элемент\n",
        "dates_2.pop(4)   # Удаляем пятый элемент\n",
        "dates_2.pop(1)   # Удаляем второй элемент\n",
        "print(\"Updated dates (using pop):\", dates_2)\n",
        "\n",
        "# Сортировка items------------------------------\n",
        "#\n",
        "# Способ 1: sort()\n",
        "items_1 = items[:]\n",
        "items_1.sort()\n",
        "print(\"Sorted items (using sort):\", items_1)\n",
        "\n",
        "# Способ 2: sorted()\n",
        "items_2 = sorted(items)\n",
        "print(\"Sorted items (using sorted):\", items_2)"
      ],
      "id": "d0bc008d95ee498b"
    },
    {
      "metadata": {
        "id": "f6d415e4a4c9cbe5"
      },
      "cell_type": "markdown",
      "source": [
        "В переменной `catalog` хранится множество всех товаров интернет-магазина, а в переменной `out_of_stock` — множество товаров, которые отсутствуют на складе. Сохраните в переменную `available_items` товары, которые доступны для заказа."
      ],
      "id": "f6d415e4a4c9cbe5"
    },
    {
      "metadata": {
        "ExecuteTime": {
          "end_time": "2024-12-08T23:14:11.276325Z",
          "start_time": "2024-12-08T23:14:11.272652Z"
        },
        "id": "e04c3bd33acd20f3"
      },
      "cell_type": "code",
      "source": [
        "catalog = {\"Laptop\", \"Smartphone\", \"Headphones\", \"Camera\", \"Tablet\"}\n",
        "out_of_stock = {\"Camera\", \"Tablet\"}\n",
        "\n",
        "result =  {'Laptop', 'Smartphone', 'Headphones'}"
      ],
      "id": "e04c3bd33acd20f3",
      "outputs": [],
      "execution_count": null
    },
    {
      "metadata": {
        "ExecuteTime": {
          "end_time": "2024-12-08T23:14:23.684952Z",
          "start_time": "2024-12-08T23:14:23.681998Z"
        },
        "id": "33800330d03fefcc",
        "colab": {
          "base_uri": "https://localhost:8080/"
        },
        "outputId": "896a647d-4622-4e7b-8b27-8cbe94cc152b"
      },
      "cell_type": "code",
      "source": [
        "catalog = {\"Laptop\", \"Smartphone\", \"Headphones\", \"Camera\", \"Tablet\"}\n",
        "out_of_stock = {\"Camera\", \"Tablet\"}\n",
        "available_items = catalog - out_of_stock\n",
        "#available_items = catalog.difference(out_of_stock)\n",
        "print(\"Available items:\", available_items)"
      ],
      "id": "33800330d03fefcc",
      "outputs": [
        {
          "output_type": "stream",
          "name": "stdout",
          "text": [
            "Available items: {'Headphones', 'Smartphone', 'Laptop'}\n"
          ]
        }
      ],
      "execution_count": null
    },
    {
      "metadata": {
        "id": "18962158aa651348"
      },
      "cell_type": "markdown",
      "source": [
        "В переменной `my_set` множество (set) из чисел. В переменной `to_delete` число, которое нужно удалить из `my_set`, если оно там есть. Если такого числа нет в `my_set` ничего делать не надо."
      ],
      "id": "18962158aa651348"
    },
    {
      "metadata": {
        "ExecuteTime": {
          "end_time": "2024-12-09T22:02:23.516522Z",
          "start_time": "2024-12-09T22:02:23.508582Z"
        },
        "id": "22eaeb7537406de7"
      },
      "cell_type": "code",
      "source": [
        "my_set = {0, 10, 100}\n",
        "to_delete = 0\n",
        "#====>\n",
        "my_set = {10, 100} # удалили 0\n",
        "\n",
        "my_set = {0, 10, 100}\n",
        "to_delete = -2\n",
        "#====>\n",
        "my_set = {0, 10, 100} # ничего не сделали\n"
      ],
      "id": "22eaeb7537406de7",
      "outputs": [],
      "execution_count": null
    },
    {
      "metadata": {
        "id": "f19b68423faa54c",
        "colab": {
          "base_uri": "https://localhost:8080/"
        },
        "outputId": "de491116-0b7e-4fad-d9c0-a1a90898e8d3"
      },
      "cell_type": "code",
      "outputs": [
        {
          "output_type": "stream",
          "name": "stdout",
          "text": [
            "=== Использование remove() ===\n",
            "Элемент -2 не найден, remove() пропущен.\n",
            "Множество после remove(): {0, 10, 100}\n",
            "\n",
            "=== Использование discard() ===\n",
            "Попытка удалить элемент 0 с помощью discard().\n",
            "Множество после discard(): {10, 100}\n"
          ]
        }
      ],
      "execution_count": null,
      "source": [
        "my_set = {0, 10, 100}\n",
        "to_delete_remove = -2\n",
        "to_delete_discard = 0\n",
        "\n",
        "# Удаление с помощью remove() - нужна проверка перед удалением иначе выведет ошибку KeyError\n",
        "print(\"=== Использование remove() ===\")\n",
        "if to_delete_remove in my_set:  # Проверяем наличие элемента\n",
        "    my_set.remove(to_delete_remove)  # Удаляем элемент\n",
        "    print(f\"Элемент {to_delete_remove} удалён с помощью remove().\")\n",
        "else:\n",
        "    print(f\"Элемент {to_delete_remove} не найден, remove() пропущен.\")\n",
        "\n",
        "print(\"Множество после remove():\", my_set)\n",
        "\n",
        "# Удаление с помощью discard()\n",
        "print(\"\\n=== Использование discard() ===\")\n",
        "my_set.discard(to_delete_discard)  # Удаляем элемент без проверки\n",
        "print(f\"Попытка удалить элемент {to_delete_discard} с помощью discard().\")\n",
        "\n",
        "print(\"Множество после discard():\", my_set)"
      ],
      "id": "f19b68423faa54c"
    },
    {
      "metadata": {
        "id": "33beb1a562823b0c"
      },
      "cell_type": "markdown",
      "source": [
        "Вы работаете с данными, организованными в виде кортежей. Давайте обработаем эти данные:\n",
        "У вас есть кортеж `product_info`, содержащий информацию о товаре.\n",
        "Используя методы и операции работы с кортежами:\n",
        "- Проверьте, содержится ли в кортеже название товара, равное `'Laptop'`.\n",
        "- Разделите кортеж на две части: информацию о продавце (первые два элемента) и информацию о товаре (оставшиеся элементы)."
      ],
      "id": "33beb1a562823b0c"
    },
    {
      "metadata": {
        "ExecuteTime": {
          "end_time": "2024-12-09T11:45:48.104653Z",
          "start_time": "2024-12-09T11:45:48.100620Z"
        },
        "id": "e03e3edbb0428c6b"
      },
      "cell_type": "code",
      "source": [
        "product_info = (\"John Doe\", \"Electronics Store\", \"Laptop\", \"15-inch\", \"Intel i7\", \"16GB RAM\")\n"
      ],
      "id": "e03e3edbb0428c6b",
      "outputs": [],
      "execution_count": null
    },
    {
      "metadata": {
        "ExecuteTime": {
          "end_time": "2024-12-09T11:45:48.118863Z",
          "start_time": "2024-12-09T11:45:48.115954Z"
        },
        "id": "251da2042c765254",
        "colab": {
          "base_uri": "https://localhost:8080/"
        },
        "outputId": "a1569a41-dfe9-43a7-b47e-d6177103b930"
      },
      "cell_type": "code",
      "source": [
        "# Проверяем, содержится ли в кортеже название товара 'Laptop'\n",
        "is_laptop_present = 'Laptop' in product_info\n",
        "print(f\"Название товара 'Laptop' найдено: {is_laptop_present}\")\n",
        "\n",
        "# Разделяем кортеж на информацию о продавце и информацию о товаре\n",
        "seller_info = product_info[:2]  # Первые два элемента\n",
        "product_details = product_info[2:]  # Остальные элементы\n",
        "\n",
        "print(\"Информация о продавце:\", seller_info)\n",
        "print(\"Информация о товаре:\", product_details)"
      ],
      "id": "251da2042c765254",
      "outputs": [
        {
          "output_type": "stream",
          "name": "stdout",
          "text": [
            "Название товара 'Laptop' найдено: True\n",
            "Информация о продавце: ('John Doe', 'Electronics Store')\n",
            "Информация о товаре: ('Laptop', '15-inch', 'Intel i7', '16GB RAM')\n"
          ]
        }
      ],
      "execution_count": null
    },
    {
      "metadata": {
        "id": "9c44b7136aa33652"
      },
      "cell_type": "markdown",
      "source": [
        "В словаре `customer` хранятся имя клиента и список его расходов в интернет-магазине (например, за электронику, одежду и аксессуары). Создайте новый словарь `summary`, в котором будет имя клиента и самая высокая сумма из списка расходов."
      ],
      "id": "9c44b7136aa33652"
    },
    {
      "metadata": {
        "ExecuteTime": {
          "end_time": "2024-12-09T22:06:08.837466Z",
          "start_time": "2024-12-09T22:06:08.832194Z"
        },
        "id": "84e9c57e8b6fc471"
      },
      "cell_type": "code",
      "source": [
        "customer = {\n",
        "    \"owner_name\": \"Maria\",\n",
        "    \"expenses\": [120, 200, 150, 300, 250]\n",
        "}"
      ],
      "id": "84e9c57e8b6fc471",
      "outputs": [],
      "execution_count": null
    },
    {
      "metadata": {
        "ExecuteTime": {
          "end_time": "2024-12-09T11:51:26.990501Z",
          "start_time": "2024-12-09T11:51:26.988083Z"
        },
        "id": "2fc79f115442b3fd",
        "colab": {
          "base_uri": "https://localhost:8080/"
        },
        "outputId": "93c1a17c-4371-428e-afc3-e3efd8c8a6eb"
      },
      "cell_type": "code",
      "source": [
        "# Создаем новый словарь с именем клиента и максимальной суммой расходов\n",
        "summary = {\n",
        "    \"owner_name\": customer[\"owner_name\"],\n",
        "    \"highest_expense\": max(customer[\"expenses\"])\n",
        "}\n",
        "\n",
        "print(\"Резюме о клиенте:\", summary)"
      ],
      "id": "2fc79f115442b3fd",
      "outputs": [
        {
          "output_type": "stream",
          "name": "stdout",
          "text": [
            "Резюме о клиенте: {'owner_name': 'Maria', 'highest_expense': 300}\n"
          ]
        }
      ],
      "execution_count": null
    }
  ],
  "metadata": {
    "kernelspec": {
      "display_name": "Python 3",
      "language": "python",
      "name": "python3"
    },
    "language_info": {
      "codemirror_mode": {
        "name": "ipython",
        "version": 2
      },
      "file_extension": ".py",
      "mimetype": "text/x-python",
      "name": "python",
      "nbconvert_exporter": "python",
      "pygments_lexer": "ipython2",
      "version": "2.7.6"
    },
    "colab": {
      "provenance": [],
      "toc_visible": true
    }
  },
  "nbformat": 4,
  "nbformat_minor": 5
}